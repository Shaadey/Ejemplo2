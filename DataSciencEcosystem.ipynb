{
 "cells": [
  {
   "cell_type": "markdown",
   "id": "ed6f746d-3d90-4db4-9ed1-e4be437258f8",
   "metadata": {},
   "source": [
    "# Data Science Tools and Ecosystem"
   ]
  },
  {
   "cell_type": "code",
   "execution_count": null,
   "id": "13a102ea-86b9-4e3a-b76f-2636b485cf37",
   "metadata": {},
   "outputs": [],
   "source": [
    "**Objectives:**\n",
    "\n",
    "- List popular languages for Data Science.\n",
    "- Introduce common libraries used in Data Science, such as NumPy, Pandas, and Matplotlib.\n",
    "- Explain the process of forking a repository on GitHub.\n",
    "- Discuss the importance of Continuous Integration (CI) and Continuous Delivery (CD) in software development.\n",
    "- Demonstrate basic arithmetic operations in Python.\n"
   ]
  },
  {
   "cell_type": "markdown",
   "id": "95a6e2a4-8fcb-4a07-b487-6b6fb2bb5b63",
   "metadata": {},
   "source": [
    "Some of the popular languages that Data Scientists use are:\n",
    "1. Python\n",
    "2. R \n",
    "3. SQL"
   ]
  },
  {
   "cell_type": "markdown",
   "id": "1ca6b850-6178-496c-bf94-a69fcf2bf1ae",
   "metadata": {},
   "source": [
    "Some of the commonly used libraries used by Data Scientists include:\n",
    "1. Numpy\n",
    "2. Pandas\n",
    "3. Matplotlib y Seaborn\n",
    "4. Scikit-learn\n",
    "5. TensorFlow y PyTorch"
   ]
  },
  {
   "cell_type": "markdown",
   "id": "c2ff62f3-450d-475c-9f5c-9c823cf0b8b9",
   "metadata": {},
   "source": [
    "| Data Science Tools        |\n",
    "|---------------------------|\n",
    "| Jupyter Notebooks         |\n",
    "| RStudio                   |\n",
    "| VS Code with Python       |\n"
   ]
  },
  {
   "cell_type": "markdown",
   "id": "52e4dd71-5d51-4b33-9ff4-84bbe9a2ad93",
   "metadata": {},
   "source": [
    "Below are a few examples of evaluating arithmetic expressions in Python:\n",
    "### Arithmetic Expression Examples\n",
    "\n",
    "In data science, mathematical operations play a crucial role in analyzing and manipulating data. Below are some common arithmetic expressions used in data science:\n",
    "\n",
    "1. **Addition:**\n",
    "   ```python\n",
    "   result = 5 + 3\n"
   ]
  },
  {
   "cell_type": "code",
   "execution_count": 6,
   "id": "8a307909-c5e5-48dd-a3ea-000a9cfd7568",
   "metadata": {
    "tags": []
   },
   "outputs": [
    {
     "data": {
      "text/plain": [
       "17"
      ]
     },
     "execution_count": 6,
     "metadata": {},
     "output_type": "execute_result"
    }
   ],
   "source": [
    "# This is a simple arithmetic expression to multiply then add integers.\n",
    "result = (3 * 4) + 5\n",
    "result\n"
   ]
  },
  {
   "cell_type": "code",
   "execution_count": 5,
   "id": "7d5644a6-879b-4263-ab8e-560259172669",
   "metadata": {
    "tags": []
   },
   "outputs": [
    {
     "data": {
      "text/plain": [
       "3.3333333333333335"
      ]
     },
     "execution_count": 5,
     "metadata": {},
     "output_type": "execute_result"
    }
   ],
   "source": [
    "# This will convert 200 minutes to hours by dividing by 60.\n",
    "hours = 200 / 60\n",
    "hours\n"
   ]
  },
  {
   "cell_type": "code",
   "execution_count": null,
   "id": "580bc76d-fbd5-4a3c-bb94-0e4c0c532f2d",
   "metadata": {},
   "outputs": [],
   "source": [
    "## Héctor\n",
    "\n",
    "Héctor Sánchez"
   ]
  }
 ],
 "metadata": {
  "kernelspec": {
   "display_name": "Python",
   "language": "python",
   "name": "conda-env-python-py"
  },
  "language_info": {
   "codemirror_mode": {
    "name": "ipython",
    "version": 3
   },
   "file_extension": ".py",
   "mimetype": "text/x-python",
   "name": "python",
   "nbconvert_exporter": "python",
   "pygments_lexer": "ipython3",
   "version": "3.7.12"
  }
 },
 "nbformat": 4,
 "nbformat_minor": 5
}
